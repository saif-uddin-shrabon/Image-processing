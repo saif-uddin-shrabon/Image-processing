{
 "cells": [
  {
   "cell_type": "markdown",
   "metadata": {},
   "source": [
    "# Comprehensive Image Noise Reduction and Filtering Demo\n",
    "\n",
    "This notebook demonstrates a complete image noise reduction system with:\n",
    "- Multiple noise simulation techniques\n",
    "- Advanced filtering algorithms\n",
    "- Comprehensive evaluation metrics\n",
    "- Batch processing capabilities\n",
    "- Performance analysis and visualization\n",
    "\n",
    "## Table of Contents\n",
    "1. [Setup and Imports](#setup)\n",
    "2. [Noise Simulation](#noise)\n",
    "3. [Advanced Filtering Techniques](#filtering)\n",
    "4. [Evaluation Metrics](#evaluation)\n",
    "5. [Comprehensive Comparison](#comparison)\n",
    "6. [Batch Processing](#batch)\n",
    "7. [Performance Analysis](#performance)\n",
    "8. [Conclusions](#conclusions)"
   ]
  },
  {
   "cell_type": "markdown",
   "metadata": {},
   "source": [
    "## 1. Setup and Imports {#setup}\n",
    "\n",
    "First, let's import all necessary libraries and our custom modules."
   ]
  },
  {
   "cell_type": "code",
   "execution_count": 1,
   "metadata": {},
   "outputs": [
    {
     "name": "stdout",
     "output_type": "stream",
     "text": [
      "All modules imported successfully!\n",
      "OpenCV version: 4.12.0\n",
      "NumPy version: 2.2.6\n"
     ]
    }
   ],
   "source": [
    "# Standard libraries\n",
    "import numpy as np\n",
    "import cv2\n",
    "import matplotlib.pyplot as plt\n",
    "import seaborn as sns\n",
    "from pathlib import Path\n",
    "import pandas as pd\n",
    "import warnings\n",
    "warnings.filterwarnings('ignore')\n",
    "\n",
    "# Set up matplotlib for better plots\n",
    "plt.style.use('seaborn-v0_8')\n",
    "plt.rcParams['figure.figsize'] = (12, 8)\n",
    "plt.rcParams['font.size'] = 10\n",
    "\n",
    "# Import our custom modules\n",
    "import sys\n",
    "sys.path.append('./src')\n",
    "\n",
    "from noise_simulation import NoiseSimulator\n",
    "from advanced_filters import AdvancedImageFilters\n",
    "from evaluation_metrics import ImageQualityMetrics\n",
    "from batch_processing import BatchImageProcessor\n",
    "\n",
    "print(\"All modules imported successfully!\")\n",
    "print(f\"OpenCV version: {cv2.__version__}\")\n",
    "print(f\"NumPy version: {np.__version__}\")"
   ]
  },
  {
   "cell_type": "markdown",
   "metadata": {},
   "source": [
    "### Initialize Processing Classes"
   ]
  },
  {
   "cell_type": "code",
   "execution_count": 2,
   "metadata": {},
   "outputs": [
    {
     "name": "stdout",
     "output_type": "stream",
     "text": [
      "Processing classes initialized successfully!\n"
     ]
    }
   ],
   "source": [
    "# Initialize our processing classes\n",
    "noise_sim = NoiseSimulator()\n",
    "filters = AdvancedImageFilters()\n",
    "metrics = ImageQualityMetrics()\n",
    "batch_processor = BatchImageProcessor(max_workers=4)\n",
    "\n",
    "print(\"Processing classes initialized successfully!\")"
   ]
  },
  {
   "cell_type": "markdown",
   "metadata": {},
   "source": [
    "### Load Test Image"
   ]
  },
  {
   "cell_type": "code",
   "execution_count": 3,
   "metadata": {},
   "outputs": [
    {
     "name": "stdout",
     "output_type": "stream",
     "text": [
      "Creating synthetic test image...\n"
     ]
    },
    {
     "data": {
      "image/png": "[encoded data removed]",
      "text/plain": [
       "<Figure size 800x600 with 1 Axes>"
      ]
     },
     "metadata": {},
     "output_type": "display_data"
    }
   ],
   "source": [
    "# Load the original test image\n",
    "original_image_path = './output/original.jpg'\n",
    "\n",
    "if Path(original_image_path).exists():\n",
    "    original_image = cv2.imread(original_image_path)\n",
    "    print(f\"Loaded original image: {original_image.shape}\")\n",
    "else:\n",
    "    # Create a synthetic test image if original doesn't exist\n",
    "    print(\"Creating synthetic test image...\")\n",
    "    original_image = np.zeros((256, 256, 3), dtype=np.uint8)\n",
    "    \n",
    "    # Create a test pattern\n",
    "    cv2.rectangle(original_image, (50, 50), (150, 150), (255, 255, 255), -1)\n",
    "    cv2.circle(original_image, (200, 200), 30, (128, 128, 128), -1)\n",
    "    cv2.line(original_image, (0, 0), (255, 255), (64, 64, 64), 2)\n",
    "    \n",
    "    # Add some texture\n",
    "    for i in range(0, 256, 20):\n",
    "        cv2.line(original_image, (i, 0), (i, 255), (32, 32, 32), 1)\n",
    "        cv2.line(original_image, (0, i), (255, i), (32, 32, 32), 1)\n",
    "\n",
    "# Display the original image\n",
    "plt.figure(figsize=(8, 6))\n",
    "plt.imshow(cv2.cvtColor(original_image, cv2.COLOR_BGR2RGB))\n",
    "plt.title('Original Test Image')\n",
    "plt.axis('off')\n",
    "plt.show()"
   ]
  },
  {
   "cell_type": "markdown",
   "metadata": {},
   "source": [
    "## 2. Noise Simulation {#noise}\n",
    "\n",
    "Let's demonstrate different types of noise that can affect images and how our noise simulator works."
   ]
  },
  {
   "cell_type": "code",
   "execution_count": 4,
   "metadata": {},
   "outputs": [
    {
     "ename": "TypeError",
     "evalue": "NoiseSimulator.add_salt_pepper_noise() got an unexpected keyword argument 'amount'",
     "output_type": "error",
     "traceback": [
      "\u001b[31m---------------------------------------------------------------------------\u001b[39m",
      "\u001b[31mTypeError\u001b[39m                                 Traceback (most recent call last)",
      "\u001b[36mCell\u001b[39m\u001b[36m \u001b[39m\u001b[32mIn[4]\u001b[39m\u001b[32m, line 4\u001b[39m\n\u001b[32m      1\u001b[39m \u001b[38;5;66;03m# Generate different types of noise\u001b[39;00m\n\u001b[32m      2\u001b[39m noise_types = {\n\u001b[32m      3\u001b[39m     \u001b[33m'\u001b[39m\u001b[33mGaussian (σ=25)\u001b[39m\u001b[33m'\u001b[39m: noise_sim.add_gaussian_noise(original_image, mean=\u001b[32m0\u001b[39m, std=\u001b[32m25\u001b[39m),\n\u001b[32m----> \u001b[39m\u001b[32m4\u001b[39m     \u001b[33m'\u001b[39m\u001b[33mSalt & Pepper (5\u001b[39m\u001b[33m%\u001b[39m\u001b[33m)\u001b[39m\u001b[33m'\u001b[39m: \u001b[43mnoise_sim\u001b[49m\u001b[43m.\u001b[49m\u001b[43madd_salt_pepper_noise\u001b[49m\u001b[43m(\u001b[49m\u001b[43moriginal_image\u001b[49m\u001b[43m,\u001b[49m\u001b[43m \u001b[49m\u001b[43mamount\u001b[49m\u001b[43m=\u001b[49m\u001b[32;43m0.05\u001b[39;49m\u001b[43m)\u001b[49m,\n\u001b[32m      5\u001b[39m     \u001b[33m'\u001b[39m\u001b[33mPoisson\u001b[39m\u001b[33m'\u001b[39m: noise_sim.add_poisson_noise(original_image),\n\u001b[32m      6\u001b[39m     \u001b[33m'\u001b[39m\u001b[33mSpeckle (σ=0.1)\u001b[39m\u001b[33m'\u001b[39m: noise_sim.add_speckle_noise(original_image, std=\u001b[32m0.1\u001b[39m),\n\u001b[32m      7\u001b[39m     \u001b[33m'\u001b[39m\u001b[33mUniform (±30)\u001b[39m\u001b[33m'\u001b[39m: noise_sim.add_uniform_noise(original_image, low=-\u001b[32m30\u001b[39m, high=\u001b[32m30\u001b[39m)\n\u001b[32m      8\u001b[39m }\n\u001b[32m     10\u001b[39m \u001b[38;5;66;03m# Display noise comparison\u001b[39;00m\n\u001b[32m     11\u001b[39m fig, axes = plt.subplots(\u001b[32m2\u001b[39m, \u001b[32m3\u001b[39m, figsize=(\u001b[32m15\u001b[39m, \u001b[32m10\u001b[39m))\n",
      "\u001b[31mTypeError\u001b[39m: NoiseSimulator.add_salt_pepper_noise() got an unexpected keyword argument 'amount'"
     ]
    }
   ],
   "source": [
    "# Generate different types of noise\n",
    "noise_types = {\n",
    "    'Gaussian (σ=25)': noise_sim.add_gaussian_noise(original_image, mean=0, std=25),\n",
    "    'Salt & Pepper (5%)': noise_sim.add_salt_pepper_noise(original_image, amount=0.05),\n",
    "    'Poisson': noise_sim.add_poisson_noise(original_image),\n",
    "    'Speckle (σ=0.1)': noise_sim.add_speckle_noise(original_image, std=0.1),\n",
    "    'Uniform (±30)': noise_sim.add_uniform_noise(original_image, low=-30, high=30)\n",
    "}\n",
    "\n",
    "# Display noise comparison\n",
    "fig, axes = plt.subplots(2, 3, figsize=(15, 10))\n",
    "axes = axes.flatten()\n",
    "\n",
    "# Original image\n",
    "axes[0].imshow(cv2.cvtColor(original_image, cv2.COLOR_BGR2RGB))\n",
    "axes[0].set_title('Original')\n",
    "axes[0].axis('off')\n",
    "\n",
    "# Noisy images\n",
    "for i, (noise_name, noisy_img) in enumerate(noise_types.items(), 1):\n",
    "    axes[i].imshow(cv2.cvtColor(noisy_img, cv2.COLOR_BGR2RGB))\n",
    "    axes[i].set_title(noise_name)\n",
    "    axes[i].axis('off')\n",
    "\n",
    "plt.tight_layout()\n",
    "plt.show()\n",
    "\n",
    "print(\"Noise simulation completed!\")"
   ]
  },
  {
   "cell_type": "markdown",
   "metadata": {},
   "source": [
    "### Noise Statistics Analysis"
   ]
  },
  {
   "cell_type": "code",
   "execution_count": null,
   "metadata": {},
   "outputs": [],
   "source": [
    "# Analyze noise statistics\n",
    "print(\"Noise Statistics Analysis:\")\n",
    "print(\"=\" * 50)\n",
    "\n",
    "for noise_name, noisy_img in noise_types.items():\n",
    "    stats = noise_sim.calculate_noise_statistics(original_image, noisy_img)\n",
    "    print(f\"\\n{noise_name}:\")\n",
    "    for stat_name, value in stats.items():\n",
    "        print(f\"  {stat_name}: {value:.4f}\")"
   ]
  },
  {
   "cell_type": "markdown",
   "metadata": {},
   "source": [
    "## 3. Advanced Filtering Techniques {#filtering}\n",
    "\n",
    "Now let's apply various filtering techniques to denoise the images."
   ]
  },
  {
   "cell_type": "code",
   "execution_count": null,
   "metadata": {},
   "outputs": [],
   "source": [
    "# Select one noisy image for detailed filtering demonstration\n",
    "test_noisy = noise_types['Gaussian (σ=25)']\n",
    "\n",
    "# Apply all available filters\n",
    "filtered_results = filters.apply_all_filters(test_noisy, noise_level=25)\n",
    "\n",
    "print(f\"Applied {len(filtered_results)} different filtering techniques\")\n",
    "print(\"Available filters:\", list(filtered_results.keys()))"
   ]
  },
  {
   "cell_type": "markdown",
   "metadata": {},
   "source": [
    "### Visualize Filtering Results"
   ]
  },
  {
   "cell_type": "code",
   "execution_count": null,
   "metadata": {},
   "outputs": [],
   "source": [
    "# Display filtering results\n",
    "n_filters = len(filtered_results)\n",
    "cols = 4\n",
    "rows = (n_filters + cols - 1) // cols\n",
    "\n",
    "fig, axes = plt.subplots(rows, cols, figsize=(16, 4*rows))\n",
    "axes = axes.flatten() if rows > 1 else axes\n",
    "\n",
    "for i, (filter_name, filtered_img) in enumerate(filtered_results.items()):\n",
    "    if i < len(axes):\n",
    "        if len(filtered_img.shape) == 3:\n",
    "            axes[i].imshow(cv2.cvtColor(filtered_img, cv2.COLOR_BGR2RGB))\n",
    "        else:\n",
    "            axes[i].imshow(filtered_img, cmap='gray')\n",
    "        axes[i].set_title(filter_name)\n",
    "        axes[i].axis('off')\n",
    "\n",
    "# Hide unused subplots\n",
    "for i in range(len(filtered_results), len(axes)):\n",
    "    axes[i].axis('off')\n",
    "\n",
    "plt.tight_layout()\n",
    "plt.show()"
   ]
  },
  {
   "cell_type": "markdown",
   "metadata": {},
   "source": [
    "## 4. Evaluation Metrics {#evaluation}\n",
    "\n",
    "Let's evaluate the performance of different filtering methods using various quality metrics."
   ]
  },
  {
   "cell_type": "code",
   "execution_count": null,
   "metadata": {},
   "outputs": [],
   "source": [
    "# Calculate metrics for all filtered images\n",
    "evaluation_results = metrics.compare_filtering_methods(\n",
    "    original_image, \n",
    "    filtered_results, \n",
    "    save_results=False\n",
    ")\n",
    "\n",
    "print(\"\\nEvaluation completed!\")"
   ]
  },
  {
   "cell_type": "markdown",
   "metadata": {},
   "source": [
    "### Metrics Visualization"
   ]
  },
  {
   "cell_type": "code",
   "execution_count": null,
   "metadata": {},
   "outputs": [],
   "source": [
    "# Create metrics visualization\n",
    "metrics.visualize_metrics_comparison(evaluation_results, figsize=(15, 10))\n",
    "\n",
    "# Create a detailed metrics DataFrame for better analysis\n",
    "df_metrics = pd.DataFrame(evaluation_results).T\n",
    "print(\"\\nDetailed Metrics Table:\")\n",
    "print(df_metrics.round(4))"
   ]
  },
  {
   "cell_type": "markdown",
   "metadata": {},
   "source": [
    "### Best Performing Filters Analysis"
   ]
  },
  {
   "cell_type": "code",
   "execution_count": null,
   "metadata": {},
   "outputs": [],
   "source": [
    "# Find best performing filters for each metric\n",
    "print(\"Best Performing Filters:\")\n",
    "print(\"=\" * 30)\n",
    "\n",
    "for metric in df_metrics.columns:\n",
    "    if metric in ['MSE', 'MAE']:\n",
    "        best_filter = df_metrics[metric].idxmin()\n",
    "        best_value = df_metrics[metric].min()\n",
    "        print(f\"{metric}: {best_filter} ({best_value:.4f})\")\n",
    "    else:\n",
    "        # Handle infinite values\n",
    "        finite_values = df_metrics[metric][df_metrics[metric] != np.inf]\n",
    "        if not finite_values.empty:\n",
    "            best_filter = finite_values.idxmax()\n",
    "            best_value = finite_values.max()\n",
    "            print(f\"{metric}: {best_filter} ({best_value:.4f})\")"
   ]
  },
  {
   "cell_type": "markdown",
   "metadata": {},
   "source": [
    "## 5. Comprehensive Comparison {#comparison}\n",
    "\n",
    "Let's compare the performance across different noise types."
   ]
  },
  {
   "cell_type": "code",
   "execution_count": null,
   "metadata": {},
   "outputs": [],
   "source": [
    "# Test different filters on different noise types\n",
    "comparison_results = {}\n",
    "\n",
    "# Select a few key filters for comparison\n",
    "key_filters = ['Gaussian', 'Bilateral', 'Non-Local Means', 'Wiener', 'Total Variation']\n",
    "\n",
    "for noise_name, noisy_img in noise_types.items():\n",
    "    print(f\"Processing {noise_name}...\")\n",
    "    \n",
    "    # Apply key filters\n",
    "    filtered_imgs = {}\n",
    "    for filter_name in key_filters:\n",
    "        if filter_name == 'Gaussian':\n",
    "            filtered_imgs[filter_name] = filters.enhanced_gaussian_filter(noisy_img, sigma=1.0)\n",
    "        elif filter_name == 'Bilateral':\n",
    "            filtered_imgs[filter_name] = filters.enhanced_bilateral_filter(noisy_img)\n",
    "        elif filter_name == 'Non-Local Means':\n",
    "            filtered_imgs[filter_name] = filters.enhanced_nlm_filter(noisy_img)\n",
    "        elif filter_name == 'Wiener':\n",
    "            filtered_imgs[filter_name] = filters.wiener_filter(noisy_img)\n",
    "        elif filter_name == 'Total Variation':\n",
    "            filtered_imgs[filter_name] = filters.total_variation_denoising(noisy_img)\n",
    "    \n",
    "    # Calculate metrics\n",
    "    noise_results = metrics.compare_filtering_methods(original_image, filtered_imgs, save_results=False)\n",
    "    comparison_results[noise_name] = noise_results\n",
    "\n",
    "print(\"Comprehensive comparison completed!\")"
   ]
  },
  {
   "cell_type": "markdown",
   "metadata": {},
   "source": [
    "### Cross-Noise Performance Analysis"
   ]
  },
  {
   "cell_type": "code",
   "execution_count": null,
   "metadata": {},
   "outputs": [],
   "source": [
    "# Create a comprehensive performance heatmap\n",
    "psnr_data = []\n",
    "ssim_data = []\n",
    "\n",
    "for noise_type, results in comparison_results.items():\n",
    "    psnr_row = []\n",
    "    ssim_row = []\n",
    "    for filter_name in key_filters:\n",
    "        if filter_name in results:\n",
    "            psnr_row.append(results[filter_name]['PSNR'])\n",
    "            ssim_row.append(results[filter_name]['SSIM'])\n",
    "        else:\n",
    "            psnr_row.append(0)\n",
    "            ssim_row.append(0)\n",
    "    psnr_data.append(psnr_row)\n",
    "    ssim_data.append(ssim_row)\n",
    "\n",
    "# Create DataFrames\n",
    "psnr_df = pd.DataFrame(psnr_data, index=list(comparison_results.keys()), columns=key_filters)\n",
    "ssim_df = pd.DataFrame(ssim_data, index=list(comparison_results.keys()), columns=key_filters)\n",
    "\n",
    "# Plot heatmaps\n",
    "fig, (ax1, ax2) = plt.subplots(1, 2, figsize=(16, 6))\n",
    "\n",
    "# PSNR heatmap\n",
    "sns.heatmap(psnr_df, annot=True, fmt='.2f', cmap='viridis', ax=ax1)\n",
    "ax1.set_title('PSNR Performance Across Noise Types')\n",
    "ax1.set_ylabel('Noise Type')\n",
    "\n",
    "# SSIM heatmap\n",
    "sns.heatmap(ssim_df, annot=True, fmt='.3f', cmap='viridis', ax=ax2)\n",
    "ax2.set_title('SSIM Performance Across Noise Types')\n",
    "ax2.set_ylabel('Noise Type')\n",
    "\n",
    "plt.tight_layout()\n",
    "plt.show()\n",
    "\n",
    "print(\"\\nPSNR Performance Summary:\")\n",
    "print(psnr_df.round(2))\n",
    "print(\"\\nSSIM Performance Summary:\")\n",
    "print(ssim_df.round(3))"
   ]
  },
  {
   "cell_type": "markdown",
   "metadata": {},
   "source": [
    "## 6. Batch Processing {#batch}\n",
    "\n",
    "Demonstrate batch processing capabilities with multiple images."
   ]
  },
  {
   "cell_type": "code",
   "execution_count": null,
   "metadata": {},
   "outputs": [],
   "source": [
    "# Create a small dataset of test images\n",
    "test_images = {}\n",
    "\n",
    "# Create different synthetic test images\n",
    "for i in range(3):\n",
    "    img = np.zeros((128, 128, 3), dtype=np.uint8)\n",
    "    \n",
    "    if i == 0:\n",
    "        # Geometric shapes\n",
    "        cv2.rectangle(img, (20, 20), (60, 60), (255, 255, 255), -1)\n",
    "        cv2.circle(img, (90, 90), 20, (128, 128, 128), -1)\n",
    "    elif i == 1:\n",
    "        # Diagonal lines\n",
    "        for j in range(0, 128, 10):\n",
    "            cv2.line(img, (j, 0), (128, 128-j), (200, 200, 200), 2)\n",
    "    else:\n",
    "        # Random texture\n",
    "        noise = np.random.randint(0, 255, (128, 128, 3), dtype=np.uint8)\n",
    "        img = cv2.addWeighted(img, 0.3, noise, 0.7, 0)\n",
    "    \n",
    "    test_images[f'test_image_{i+1}.png'] = img\n",
    "\n",
    "print(f\"Created {len(test_images)} test images for batch processing\")\n",
    "\n",
    "# Display test images\n",
    "fig, axes = plt.subplots(1, 3, figsize=(12, 4))\n",
    "for i, (name, img) in enumerate(test_images.items()):\n",
    "    axes[i].imshow(cv2.cvtColor(img, cv2.COLOR_BGR2RGB))\n",
    "    axes[i].set_title(name)\n",
    "    axes[i].axis('off')\n",
    "plt.tight_layout()\n",
    "plt.show()"
   ]
  },
  {
   "cell_type": "markdown",
   "metadata": {},
   "source": [
    "### Batch Noise Addition"
   ]
  },
  {
   "cell_type": "code",
   "execution_count": null,
   "metadata": {},
   "outputs": [],
   "source": [
    "# Define noise configurations for batch processing\n",
    "batch_noise_configs = [\n",
    "    {'type': 'gaussian', 'mean': 0, 'std': 20},\n",
    "    {'type': 'salt_pepper', 'amount': 0.03}\n",
    "]\n",
    "\n",
    "# Add noise to all test images\n",
    "noisy_images = batch_processor.batch_add_noise(test_images, batch_noise_configs)\n",
    "\n",
    "print(f\"Added noise to {len(test_images)} images with {len(batch_noise_configs)} noise types\")\n",
    "print(\"Noise configurations applied:\", [config['type'] for config in batch_noise_configs])"
   ]
  },
  {
   "cell_type": "markdown",
   "metadata": {},
   "source": [
    "### Batch Filtering"
   ]
  },
  {
   "cell_type": "code",
   "execution_count": null,
   "metadata": {},
   "outputs": [],
   "source": [
    "# Define filter configurations for batch processing\n",
    "batch_filter_configs = [\n",
    "    {'name': 'gaussian', 'sigma': 1.0},\n",
    "    {'name': 'bilateral', 'd': 9, 'sigma_color': 75, 'sigma_space': 75},\n",
    "    {'name': 'nlm', 'h': 10},\n",
    "    {'name': 'median', 'kernel_size': 5}\n",
    "]\n",
    "\n",
    "# Select noisy images for filtering (use Gaussian noise)\n",
    "gaussian_noisy = {}\n",
    "for img_name, noise_results in noisy_images.items():\n",
    "    for noise_type, noisy_img in noise_results.items():\n",
    "        if 'gaussian' in noise_type:\n",
    "            gaussian_noisy[img_name] = noisy_img\n",
    "            break\n",
    "\n",
    "# Apply filters in batch\n",
    "batch_results = batch_processor.batch_apply_filters(\n",
    "    gaussian_noisy, \n",
    "    batch_filter_configs, \n",
    "    original_images=test_images\n",
    ")\n",
    "\n",
    "print(f\"Applied {len(batch_filter_configs)} filters to {len(gaussian_noisy)} images\")\n",
    "print(\"Filters applied:\", [config['name'] for config in batch_filter_configs])"
   ]
  },
  {
   "cell_type": "markdown",
   "metadata": {},
   "source": [
    "### Batch Performance Evaluation"
   ]
  },
  {
   "cell_type": "code",
   "execution_count": null,
   "metadata": {},
   "outputs": [],
   "source": [
    "# Evaluate batch processing performance\n",
    "batch_performance = batch_processor.batch_evaluate_performance(batch_results)\n",
    "\n",
    "print(\"Batch Processing Performance Summary:\")\n",
    "print(\"=\" * 40)\n",
    "\n",
    "# Convert to DataFrame for better visualization\n",
    "batch_df = pd.DataFrame(batch_performance).T\n",
    "print(batch_df.round(4))\n",
    "\n",
    "# Visualize batch results\n",
    "batch_processor.visualize_batch_results(batch_results, figsize=(16, 8))"
   ]
  },
  {
   "cell_type": "markdown",
   "metadata": {},
   "source": [
    "## 7. Performance Analysis {#performance}\n",
    "\n",
    "Let's analyze the overall performance and create comprehensive reports."
   ]
  },
  {
   "cell_type": "code",
   "execution_count": null,
   "metadata": {},
   "outputs": [],
   "source": [
    "# Create a comprehensive quality report\n",
    "report_content = metrics.create_quality_report(\n",
    "    original_image,\n",
    "    filtered_results,\n",
    "    noisy_image=test_noisy,\n",
    "    save_path='./quality_assessment_report.txt'\n",
    ")\n",
    "\n",
    "print(\"Quality Assessment Report:\")\n",
    "print(report_content)"
   ]
  },
  {
   "cell_type": "markdown",
   "metadata": {},
   "source": [
    "### Processing Time Analysis"
   ]
  },
  {
   "cell_type": "code",
   "execution_count": null,
   "metadata": {},
   "outputs": [],
   "source": [
    "import time\n",
    "\n",
    "# Measure processing times for different filters\n",
    "processing_times = {}\n",
    "test_img = cv2.cvtColor(original_image, cv2.COLOR_BGR2GRAY)  # Use grayscale for faster processing\n",
    "\n",
    "filter_functions = {\n",
    "    'Gaussian': lambda img: filters.enhanced_gaussian_filter(img, sigma=1.0),\n",
    "    'Bilateral': lambda img: filters.enhanced_bilateral_filter(img),\n",
    "    'Non-Local Means': lambda img: filters.enhanced_nlm_filter(img),\n",
    "    'Median': lambda img: cv2.medianBlur(img, 5),\n",
    "    'Wiener': lambda img: filters.wiener_filter(img),\n",
    "    'Total Variation': lambda img: filters.total_variation_denoising(img)\n",
    "}\n",
    "\n",
    "print(\"Measuring processing times...\")\n",
    "for filter_name, filter_func in filter_functions.items():\n",
    "    times = []\n",
    "    for _ in range(5):  # Run 5 times for average\n",
    "        start_time = time.time()\n",
    "        _ = filter_func(test_img)\n",
    "        end_time = time.time()\n",
    "        times.append(end_time - start_time)\n",
    "    \n",
    "    processing_times[filter_name] = {\n",
    "        'mean': np.mean(times),\n",
    "        'std': np.std(times),\n",
    "        'min': np.min(times),\n",
    "        'max': np.max(times)\n",
    "    }\n",
    "\n",
    "# Display processing times\n",
    "time_df = pd.DataFrame(processing_times).T\n",
    "print(\"\\nProcessing Times (seconds):\")\n",
    "print(time_df.round(4))\n",
    "\n",
    "# Plot processing times\n",
    "plt.figure(figsize=(10, 6))\n",
    "filter_names = list(processing_times.keys())\n",
    "mean_times = [processing_times[name]['mean'] for name in filter_names]\n",
    "std_times = [processing_times[name]['std'] for name in filter_names]\n",
    "\n",
    "plt.bar(filter_names, mean_times, yerr=std_times, capsize=5)\n",
    "plt.title('Processing Time Comparison')\n",
    "plt.ylabel('Time (seconds)')\n",
    "plt.xticks(rotation=45)\n",
    "plt.tight_layout()\n",
    "plt.show()"
   ]
  },
  {
   "cell_type": "markdown",
   "metadata": {},
   "source": [
    "### Quality vs Speed Trade-off Analysis"
   ]
  },
  {
   "cell_type": "code",
   "execution_count": null,
   "metadata": {},
   "outputs": [],
   "source": [
    "# Create quality vs speed scatter plot\n",
    "quality_speed_data = []\n",
    "\n",
    "for filter_name in filter_names:\n",
    "    if filter_name in evaluation_results:\n",
    "        psnr = evaluation_results[filter_name]['PSNR']\n",
    "        ssim = evaluation_results[filter_name]['SSIM']\n",
    "        time_taken = processing_times[filter_name]['mean']\n",
    "        \n",
    "        quality_speed_data.append({\n",
    "            'Filter': filter_name,\n",
    "            'PSNR': psnr if psnr != float('inf') else 50,  # Cap infinite values\n",
    "            'SSIM': ssim,\n",
    "            'Time': time_taken\n",
    "        })\n",
    "\n",
    "quality_speed_df = pd.DataFrame(quality_speed_data)\n",
    "\n",
    "# Create scatter plots\n",
    "fig, (ax1, ax2) = plt.subplots(1, 2, figsize=(15, 6))\n",
    "\n",
    "# PSNR vs Time\n",
    "ax1.scatter(quality_speed_df['Time'], quality_speed_df['PSNR'], s=100, alpha=0.7)\n",
    "for i, row in quality_speed_df.iterrows():\n",
    "    ax1.annotate(row['Filter'], (row['Time'], row['PSNR']), \n",
    "                xytext=(5, 5), textcoords='offset points', fontsize=8)\n",
    "ax1.set_xlabel('Processing Time (seconds)')\n",
    "ax1.set_ylabel('PSNR (dB)')\n",
    "ax1.set_title('Quality vs Speed Trade-off (PSNR)')\n",
    "ax1.grid(True, alpha=0.3)\n",
    "\n",
    "# SSIM vs Time\n",
    "ax2.scatter(quality_speed_df['Time'], quality_speed_df['SSIM'], s=100, alpha=0.7, color='orange')\n",
    "for i, row in quality_speed_df.iterrows():\n",
    "    ax2.annotate(row['Filter'], (row['Time'], row['SSIM']), \n",
    "                xytext=(5, 5), textcoords='offset points', fontsize=8)\n",
    "ax2.set_xlabel('Processing Time (seconds)')\n",
    "ax2.set_ylabel('SSIM')\n",
    "ax2.set_title('Quality vs Speed Trade-off (SSIM)')\n",
    "ax2.grid(True, alpha=0.3)\n",
    "\n",
    "plt.tight_layout()\n",
    "plt.show()\n",
    "\n",
    "print(\"\\nQuality vs Speed Analysis:\")\n",
    "print(quality_speed_df.round(4))"
   ]
  },
  {
   "cell_type": "markdown",
   "metadata": {},
   "source": [
    "## 8. Conclusions {#conclusions}\n",
    "\n",
    "Based on our comprehensive analysis, here are the key findings:"
   ]
  },
  {
   "cell_type": "code",
   "execution_count": null,
   "metadata": {},
   "outputs": [],
   "source": [
    "# Generate final conclusions\n",
    "print(\"COMPREHENSIVE IMAGE FILTERING ANALYSIS - CONCLUSIONS\")\n",
    "print(\"=\" * 60)\n",
    "print()\n",
    "\n",
    "# Best overall performers\n",
    "print(\"1. BEST OVERALL PERFORMERS:\")\n",
    "print(\"-\" * 30)\n",
    "\n",
    "# Find filters that perform well across multiple metrics\n",
    "if not df_metrics.empty:\n",
    "    # Normalize metrics for fair comparison (higher is better for all)\n",
    "    normalized_metrics = df_metrics.copy()\n",
    "    \n",
    "    # Invert MSE and MAE (lower is better -> higher is better)\n",
    "    if 'MSE' in normalized_metrics.columns:\n",
    "        normalized_metrics['MSE'] = 1 / (1 + normalized_metrics['MSE'])\n",
    "    if 'MAE' in normalized_metrics.columns:\n",
    "        normalized_metrics['MAE'] = 1 / (1 + normalized_metrics['MAE'])\n",
    "    \n",
    "    # Handle infinite values\n",
    "    normalized_metrics = normalized_metrics.replace([np.inf, -np.inf], np.nan)\n",
    "    \n",
    "    # Calculate overall score (mean of normalized metrics)\n",
    "    overall_scores = normalized_metrics.mean(axis=1, skipna=True).sort_values(ascending=False)\n",
    "    \n",
    "    print(f\"Top 3 Overall Performers:\")\n",
    "    for i, (filter_name, score) in enumerate(overall_scores.head(3).items()):\n",
    "        print(f\"  {i+1}. {filter_name} (Score: {score:.3f})\")\n",
    "\n",
    "print()\n",
    "print(\"2. NOISE-SPECIFIC RECOMMENDATIONS:\")\n",
    "print(\"-\" * 35)\n",
    "print(\"• Gaussian Noise: Non-Local Means or Bilateral Filter\")\n",
    "print(\"• Salt & Pepper: Median or Adaptive Median Filter\")\n",
    "print(\"• Poisson Noise: Wiener or Total Variation\")\n",
    "print(\"• Speckle Noise: Anisotropic Diffusion or Guided Filter\")\n",
    "\n",
    "print()\n",
    "print(\"3. SPEED vs QUALITY TRADE-OFFS:\")\n",
    "print(\"-\" * 32)\n",
    "if not quality_speed_df.empty:\n",
    "    fastest = quality_speed_df.loc[quality_speed_df['Time'].idxmin()]\n",
    "    best_quality = quality_speed_df.loc[quality_speed_df['PSNR'].idxmax()]\n",
    "    \n",
    "    print(f\"• Fastest Filter: {fastest['Filter']} ({fastest['Time']:.3f}s)\")\n",
    "    print(f\"• Best Quality: {best_quality['Filter']} (PSNR: {best_quality['PSNR']:.2f} dB)\")\n",
    "    \n",
    "    # Find balanced option (good quality, reasonable speed)\n",
    "    quality_speed_df['efficiency'] = quality_speed_df['PSNR'] / quality_speed_df['Time']\n",
    "    most_efficient = quality_speed_df.loc[quality_speed_df['efficiency'].idxmax()]\n",
    "    print(f\"• Most Efficient: {most_efficient['Filter']} (Efficiency: {most_efficient['efficiency']:.2f})\")\n",
    "\n",
    "print()\n",
    "print(\"4. IMPLEMENTATION RECOMMENDATIONS:\")\n",
    "print(\"-\" * 35)\n",
    "print(\"• For real-time applications: Use Gaussian or Median filters\")\n",
    "print(\"• For high-quality results: Use Non-Local Means or Total Variation\")\n",
    "print(\"• For edge preservation: Use Bilateral or Anisotropic Diffusion\")\n",
    "print(\"• For unknown noise: Start with Non-Local Means\")\n",
    "\n",
    "print()\n",
    "print(\"5. FUTURE IMPROVEMENTS:\")\n",
    "print(\"-\" * 22)\n",
    "print(\"• Implement deep learning-based denoising (DnCNN, FFDNet)\")\n",
    "print(\"• Add GPU acceleration for faster processing\")\n",
    "print(\"• Develop adaptive filter selection based on noise detection\")\n",
    "print(\"• Implement multi-scale processing for better results\")\n",
    "\n",
    "print()\n",
    "print(\"Analysis completed successfully!\")\n",
    "print(f\"Total filters tested: {len(filtered_results)}\")\n",
    "print(f\"Total metrics calculated: {len(df_metrics.columns) if not df_metrics.empty else 0}\")\n",
    "print(f\"Batch processing capability: {len(test_images)} images processed\")"
   ]
  },
  {
   "cell_type": "markdown",
   "metadata": {},
   "source": [
    "## Summary\n",
    "\n",
    "This comprehensive notebook has demonstrated:\n",
    "\n",
    "1. **Noise Simulation**: Multiple types of realistic noise models\n",
    "2. **Advanced Filtering**: State-of-the-art denoising algorithms\n",
    "3. **Evaluation Metrics**: Comprehensive quality assessment\n",
    "4. **Batch Processing**: Efficient handling of multiple images\n",
    "5. **Performance Analysis**: Speed vs quality trade-offs\n",
    "\n",
    "The implemented system provides a complete framework for image noise reduction research and applications, with both educational value and practical utility.\n",
    "\n",
    "### Files Generated:\n",
    "- `quality_assessment_report.txt`: Detailed quality analysis\n",
    "- Processing modules in `./src/` directory\n",
    "- Batch processing logs and results\n",
    "\n",
    "### Next Steps:\n",
    "1. Run the Streamlit web demo for interactive filtering\n",
    "2. Experiment with your own images\n",
    "3. Extend with additional filtering techniques\n",
    "4. Optimize for specific use cases"
   ]
  }
 ],
 "metadata": {
  "kernelspec": {
   "display_name": "Python 3",
   "language": "python",
   "name": "python3"
  },
  "language_info": {
   "codemirror_mode": {
    "name": "ipython",
    "version": 3
   },
   "file_extension": ".py",
   "mimetype": "text/x-python",
   "name": "python",
   "nbconvert_exporter": "python",
   "pygments_lexer": "ipython3",
   "version": "3.13.7"
  }
 },
 "nbformat": 4,
 "nbformat_minor": 4
}
